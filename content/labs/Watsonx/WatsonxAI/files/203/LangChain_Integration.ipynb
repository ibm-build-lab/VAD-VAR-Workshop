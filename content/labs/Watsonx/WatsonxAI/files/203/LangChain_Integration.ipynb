{
  "cells": [
    {
      "cell_type": "markdown",
      "metadata": {
        "pycharm": {
          "name": "#%% md\n"
        }
      },
      "source": [
        "![image](https://raw.githubusercontent.com/IBM/watson-machine-learning-samples/master/cloud/notebooks/headers/watsonx-Prompt_Lab-Notebook.png)\n",
        "\n",
        "# Use Watsonx and `LangChain` to make a series of calls to a language model"
      ]
    },
    {
      "cell_type": "markdown",
      "metadata": {
        "pycharm": {
          "name": "#%% md\n"
        }
      },
      "source": [
        "#### Disclaimers\n",
        "\n",
        "- Use only Projects and Spaces that are available in watsonx context.\n",
        "\n",
        "\n",
        "## Notebook content\n",
        "\n",
        "This notebook contains the steps and code to demonstrate Simple Sequential Chain using langchain integration with Watsonx models.\n",
        "\n",
        "Some familiarity with Python is helpful. This notebook uses Python 3.10.\n",
        "\n",
        "\n",
        "## Learning goal\n",
        "\n",
        "The goal of this notebook is to demonstrate how to chain models available on watsonx.ai to generate a sequence of creating a random question on a given topic and an answer to that question and also to make the user friends with LangChain framework, using simple runnable sequences the WatsonxLLM class.\n",
        "\n",
        "\n",
        "## Contents\n",
        "\n",
        "This notebook contains the following parts:\n",
        "\n",
        "- [Setup](#setup)\n",
        "- [Foundation Models on Watsonx](#models)\n",
        "- [WatsonxLLM interface](#watsonxllm)\n",
        "- [Simple Sequential Chain experiment](#experiment)\n",
        "- [Summary](#summary)"
      ]
    },
    {
      "cell_type": "markdown",
      "metadata": {
        "pycharm": {
          "name": "#%% md\n"
        }
      },
      "source": [
        "<a id=\"setup\"></a>\n",
        "## Set up the environment\n",
        "\n",
        "Before you use the sample code in this notebook, you must perform the following setup tasks:\n",
        "\n",
        "-  Create a <a href=\"https://console.ng.bluemix.net/catalog/services/ibm-watson-machine-learning/\" target=\"_blank\" rel=\"noopener no referrer\">Watson Machine Learning (WML) Service</a> instance (a free plan is offered and information about how to create the instance can be found <a href=\"https://dataplatform.cloud.ibm.com/docs/content/wsj/analyze-data/ml-service-instance.html?context=analytics\" target=\"_blank\" rel=\"noopener no referrer\">here</a>)."
      ]
    },
    {
      "cell_type": "markdown",
      "metadata": {
        "pycharm": {
          "name": "#%% md\n"
        }
      },
      "source": [
        "### watsonx.ai notebook environment\n",
        "\n",
        "If you are running this from a Jupyter Notebook in watsonx.ai, then run the following code cell. \n",
        "\n",
        "**This may take a few seconds to complete.**"
      ]
    },
    {
      "cell_type": "code",
      "execution_count": null,
      "metadata": {},
      "outputs": [],
      "source": [
        "# Install dependencies\n",
        "import sys\n",
        "\n",
        "!{sys.executable} -m pip install -U langchain-ibm | tail -n 1"
      ]
    },
    {
      "cell_type": "markdown",
      "metadata": {},
      "source": [
        "### Non-watsonx.ai environment\n",
        "\n",
        "If you are running this from a **outside** watsonx.ai, then run the following code cell. "
      ]
    },
    {
      "cell_type": "code",
      "execution_count": null,
      "metadata": {
        "id": "d24c4bec-5290-4db6-bb5a-7697b0c019ad",
        "pycharm": {
          "is_executing": true,
          "name": "#%%\n"
        }
      },
      "outputs": [],
      "source": [
        "import sys\n",
        "\n",
        "!{sys.executable} -m pip install ibm-watsonx-ai | tail -n 1\n",
        "!{sys.executable} -m pip install pydantic | tail -n 1\n",
        "!{sys.executable} -m pip install langchain | tail -n 1\n",
        "!{sys.executable} -m pip install -U langchain-ibm | tail -n 1"
      ]
    },
    {
      "cell_type": "markdown",
      "metadata": {
        "pycharm": {
          "name": "#%% md\n"
        }
      },
      "source": [
        "### Defining the WML credentials\n",
        "This cell defines the WML credentials required to work with watsonx Foundation Model inferencing.\n",
        "\n",
        "**Action:** Provide the IBM Cloud user API key. For details, see\n",
        "[documentation](https://cloud.ibm.com/docs/account?topic=account-userapikey&interface=ui)."
      ]
    },
    {
      "cell_type": "code",
      "execution_count": 9,
      "metadata": {
        "id": "f770fb11-d807-4362-a492-36048d2044c4",
        "pycharm": {
          "name": "#%%\n"
        }
      },
      "outputs": [],
      "source": [
        "import getpass\n",
        "from os import environ\n",
        "\n",
        "try:\n",
        "    REGION = environ[\"RUNTIME_ENV_REGION\"]\n",
        "except KeyError:\n",
        "    # Set your region here if you are not running this notebook in the watsonx.ai Jupyter environment\n",
        "    # us-south, eu-de, etc.\n",
        "    REGION = \"us-south\"\n",
        "\n",
        "credentials = {\n",
        "    \"url\": \"https://\" + REGION + \".ml.cloud.ibm.com\",\n",
        "    \"apikey\": getpass.getpass(\"Please enter your WML api key (hit enter): \"),\n",
        "}"
      ]
    },
    {
      "cell_type": "markdown",
      "metadata": {
        "pycharm": {
          "name": "#%% md\n"
        }
      },
      "source": [
        "### Defining the project id\n",
        "The Foundation Model requires project id that provides the context for the call. We will obtain the id from the project in which this notebook runs. Otherwise, please provide the project id."
      ]
    },
    {
      "cell_type": "code",
      "execution_count": 10,
      "metadata": {
        "id": "59b6eee3-2e65-4062-983d-1e2eb3e1b8bf",
        "pycharm": {
          "name": "#%%\n"
        }
      },
      "outputs": [],
      "source": [
        "from os import getenv\n",
        "\n",
        "try:\n",
        "    project_id = environ[\"PROJECT_ID\"]\n",
        "except KeyError:\n",
        "    # Enter project ID here if not running this notebook in the watsonx.ai Jupyter environment\n",
        "    project_id = \"MY_PROJECT_ID\""
      ]
    },
    {
      "cell_type": "markdown",
      "metadata": {
        "pycharm": {
          "name": "#%% md\n"
        }
      },
      "source": [
        "<a id=\"models\"></a>\n",
        "## Foundation Models on `watsonx.ai`"
      ]
    },
    {
      "cell_type": "markdown",
      "metadata": {
        "pycharm": {
          "name": "#%% md\n"
        }
      },
      "source": [
        "#### List available models\n",
        "\n",
        "All avaliable models are presented under `ModelTypes` class."
      ]
    },
    {
      "cell_type": "code",
      "execution_count": null,
      "metadata": {
        "id": "1e3459a5-159c-4012-ba5d-b050937efec7",
        "pycharm": {
          "name": "#%%\n"
        }
      },
      "outputs": [],
      "source": [
        "from ibm_watsonx_ai.foundation_models.utils.enums import ModelTypes\n",
        "\n",
        "print(\"Supported Models:\")\n",
        "for model in ModelTypes:\n",
        "    print(\"-\", model.name)"
      ]
    },
    {
      "cell_type": "markdown",
      "metadata": {
        "pycharm": {
          "name": "#%% md\n"
        }
      },
      "source": [
        "### Defining the model parameters\n",
        "\n",
        "You might need to adjust model `parameters` for different models or tasks, to do so please refer to documentation under `GenTextParamsMetaNames` class.\n",
        "\n",
        "**Action:** If any complications please refer to the [documentation](https://ibm.github.io/watson-machine-learning-sdk/)."
      ]
    },
    {
      "cell_type": "code",
      "execution_count": 23,
      "metadata": {
        "id": "dcbd5f4c-0517-45f7-8d34-e79384617487",
        "pycharm": {
          "name": "#%%\n"
        }
      },
      "outputs": [],
      "source": [
        "from ibm_watsonx_ai.metanames import GenTextParamsMetaNames as GenParams\n",
        "from ibm_watsonx_ai.foundation_models.utils.enums import DecodingMethods\n",
        "\n",
        "parameters = {\n",
        "    GenParams.DECODING_METHOD: DecodingMethods.SAMPLE,\n",
        "    GenParams.MAX_NEW_TOKENS: 100,\n",
        "    GenParams.MIN_NEW_TOKENS: 1,\n",
        "    GenParams.TEMPERATURE: 0.5,\n",
        "    GenParams.TOP_K: 50,\n",
        "    GenParams.TOP_P: 1,\n",
        "}"
      ]
    },
    {
      "cell_type": "markdown",
      "metadata": {
        "id": "7078985e-096d-4c5b-bd2a-f4486e9860d7"
      },
      "source": [
        "### Initialize the model\n",
        "Initialize the `Model` class with previous set params."
      ]
    },
    {
      "cell_type": "code",
      "execution_count": 24,
      "metadata": {
        "id": "718a65bf-0636-4fbb-8df1-73255514d347"
      },
      "outputs": [],
      "source": [
        "from ibm_watsonx_ai.foundation_models import Model\n",
        "\n",
        "flan_ul2_model = Model(\n",
        "    model_id=ModelTypes.FLAN_UL2,\n",
        "    params=parameters,\n",
        "    credentials=credentials,\n",
        "    project_id=project_id,\n",
        ")\n",
        "\n",
        "granite_20b_model = Model(\n",
        "    model_id=ModelTypes.GRANITE_20B_MULTILINGUAL,\n",
        "    credentials=credentials,\n",
        "    project_id=project_id,\n",
        ")"
      ]
    },
    {
      "cell_type": "markdown",
      "metadata": {
        "pycharm": {
          "name": "#%% md\n"
        }
      },
      "source": [
        "<a id=\"watsonxllm\"></a>\n",
        "## WatsonxLLM interface\n",
        "\n",
        "`WatsonxLLM` is a wrapper around watsonx.ai models that provide chain integration around the models.\n",
        "\n",
        "**Action:** For more details about `WatsonXLLM` check the [langchain-ibm package documentation](https://python.langchain.com/docs/integrations/llms/ibm_watsonx/)."
      ]
    },
    {
      "cell_type": "markdown",
      "metadata": {
        "id": "f933afa9-1884-4b92-8539-fa9fe5f0c00f"
      },
      "source": [
        "### Initialize the `WatsonxLLM` class"
      ]
    },
    {
      "cell_type": "code",
      "execution_count": 25,
      "metadata": {
        "id": "b0e622c8-4520-4b9f-8fa5-eadc2772ea82",
        "pycharm": {
          "name": "#%%\n"
        }
      },
      "outputs": [],
      "source": [
        "from langchain_ibm import WatsonxLLM\n",
        "\n",
        "# From WatsonX SDK Model object\n",
        "flan_ul2_llm = flan_ul2_model.to_langchain()\n",
        "\n",
        "# Brand-new WatsonxLLM object\n",
        "granite_20b_llm = WatsonxLLM(\n",
        "    model_id=ModelTypes.GRANITE_20B_MULTILINGUAL,\n",
        "    apikey=credentials.get(\"apikey\"),\n",
        "    url=credentials.get(\"url\", \"https://us-south.ml.cloud.ibm.com\"),\n",
        "    project_id=project_id,\n",
        "    params=parameters,\n",
        ")"
      ]
    },
    {
      "cell_type": "markdown",
      "metadata": {
        "pycharm": {
          "name": "#%% md\n"
        }
      },
      "source": [
        "You can print all set data about the WatsonxLLM object using the `dict()` method."
      ]
    },
    {
      "cell_type": "code",
      "execution_count": null,
      "metadata": {
        "id": "7995cf4c-b483-4456-9a31-9de88540cab3",
        "pycharm": {
          "name": "#%%\n"
        }
      },
      "outputs": [],
      "source": [
        "flan_ul2_llm.dict()"
      ]
    },
    {
      "cell_type": "code",
      "execution_count": null,
      "metadata": {
        "id": "b87909a6-367e-462e-a5ba-6aaaa141e19c"
      },
      "outputs": [],
      "source": [
        "granite_20b_llm.dict()"
      ]
    },
    {
      "cell_type": "markdown",
      "metadata": {
        "pycharm": {
          "name": "#%% md\n"
        }
      },
      "source": [
        "<a id=\"experiment\"></a>\n",
        "## Runnable Sequence experiment\n",
        "\n",
        "To simplify creating custom workflows, LangChain has implemented a [\"Runnable\" protocol](https://python.langchain.com/v0.1/docs/expression_language/interface/). \n",
        "\n",
        "Many LangChain components implement the Runnable protocol, including chat models, LLMs, output parsers, retrievers, prompt templates, and more. \n",
        "\n",
        "\n",
        "allowing you to chain steps using the pipe operator (`|`), like so:\n",
        "\n",
        "```\n",
        "simple_chain = prompt | llm\n",
        "```\n",
        "\n",
        "The output of one step serves as the input for the following step.\n",
        "\n",
        "The experiment will consist in generating a random question about any topic and answer the following question."
      ]
    },
    {
      "cell_type": "markdown",
      "metadata": {
        "pycharm": {
          "name": "#%% md\n"
        }
      },
      "source": [
        "An object called `PromptTemplate` assists in generating prompts using a combination of user input, additional non-static data, and a fixed template string.\n",
        "\n",
        "In our case we would like to create two `PromptTemplate` objects which will be responsible for creating a random question and answering it."
      ]
    },
    {
      "cell_type": "code",
      "execution_count": 44,
      "metadata": {
        "id": "4f737279-bf7f-45a2-89fa-8fb4309b85cd",
        "pycharm": {
          "name": "#%%\n"
        }
      },
      "outputs": [],
      "source": [
        "from langchain import PromptTemplate\n",
        "\n",
        "gen_question = PromptTemplate(\n",
        "    input_variables=[\"topic\"],\n",
        "    template=\"Generate a random question about {topic}: Question: \",\n",
        ")\n",
        "answer_question = PromptTemplate(\n",
        "    input_variables=[\"question\"],\n",
        "    template=\"Answer the following question: {question}\",\n",
        ")"
      ]
    },
    {
      "cell_type": "markdown",
      "metadata": {
        "pycharm": {
          "name": "#%% md\n"
        }
      },
      "source": [
        "We would like to add functionality around language models using a simple runnable sequence:\n",
        "\n",
        "```\n",
        "chain = prompt | llm\n",
        "```\n",
        "\n",
        "`chain_q` chain formats the prompt template whose task is to generate random question, passes the formatted string to LLM and returns the LLM output."
      ]
    },
    {
      "cell_type": "code",
      "execution_count": null,
      "metadata": {
        "id": "6571b55f-36a7-491d-a29f-e83a4b32d8c4",
        "pycharm": {
          "name": "#%%\n"
        }
      },
      "outputs": [],
      "source": [
        "chain_q = gen_question | flan_ul2_llm\n",
        "\n",
        "chain_q_res = chain_q.invoke(input=\"dogs\")\n",
        "\n",
        "print(\"LLM response:\", chain_q_res)"
      ]
    },
    {
      "cell_type": "markdown",
      "metadata": {
        "pycharm": {
          "name": "#%% md\n"
        }
      },
      "source": [
        "`chain_answer_q` chain formats the prompt template whose task is to answer the question we got from `chain_q` chain, passes the formatted string to LLM and returns the LLM output."
      ]
    },
    {
      "cell_type": "code",
      "execution_count": null,
      "metadata": {
        "id": "d5c17a7a-65ad-47d2-b886-0a4717d25996",
        "pycharm": {
          "name": "#%%\n"
        }
      },
      "outputs": [],
      "source": [
        "chain_answer_q = answer_question | granite_20b_llm\n",
        "\n",
        "chain_answer_q_res = chain_answer_q.invoke(input=chain_q_res)\n",
        "\n",
        "print(\"LLM response:\", chain_answer_q_res)"
      ]
    },
    {
      "cell_type": "markdown",
      "metadata": {
        "pycharm": {
          "name": "#%% md\n"
        }
      },
      "source": [
        "Now, let's run the full sequence:\n",
        "\n",
        "```\n",
        "chain_q -> chain_answer_q\n",
        "```\n",
        "\n",
        "Which, if we break it down is something like:\n",
        "\n",
        "```\n",
        "gen_question | flan_ul2_llm -> answer_question | granite_20b_llm\n",
        "```"
      ]
    },
    {
      "cell_type": "code",
      "execution_count": null,
      "metadata": {
        "id": "d588d39b-18c3-439e-a3c4-fe86f4497116",
        "pycharm": {
          "name": "#%%\n"
        }
      },
      "outputs": [],
      "source": [
        "full_chain = chain_q | chain_answer_q"
      ]
    },
    {
      "cell_type": "markdown",
      "metadata": {
        "pycharm": {
          "name": "#%% md\n"
        }
      },
      "source": [
        "Generate random question and answer to topic."
      ]
    },
    {
      "cell_type": "code",
      "execution_count": null,
      "metadata": {
        "id": "9af25043-0bf7-46bb-b69a-0ac988ad6311",
        "pycharm": {
          "name": "#%%\n"
        }
      },
      "outputs": [],
      "source": [
        "full_chain.invoke(\"Life\")"
      ]
    },
    {
      "cell_type": "markdown",
      "metadata": {
        "pycharm": {
          "name": "#%% md\n"
        }
      },
      "source": [
        "<a id=\"summary\"></a>\n",
        "## Summary and next steps\n",
        "\n",
        " You successfully completed this notebook!.\n",
        " \n",
        " You learned how to use chain using custom llm WastonxLLM.\n",
        " \n",
        "Check out our _[Online Documentation](https://ibm.github.io/watson-machine-learning-sdk/samples.html)_ for more samples, tutorials, documentation, how-tos, and blog posts. "
      ]
    },
    {
      "cell_type": "markdown",
      "metadata": {
        "pycharm": {
          "name": "#%% md\n"
        }
      },
      "source": [
        "### Authors: \n",
        " - **Mateusz Szewczyk**, Software Engineer at Watson Machine Learning.\n",
        " - **Josefina Casanova**, Engagement Lead, Build Lab Americas. Edited for L4 watsonx course. 2024"
      ]
    },
    {
      "cell_type": "markdown",
      "metadata": {
        "pycharm": {
          "name": "#%% md\n"
        }
      },
      "source": [
        "Copyright © 2024 IBM. This notebook and its source code are released under the terms of the MIT License."
      ]
    }
  ],
  "metadata": {
    "kernelspec": {
      "display_name": "Python 3.11",
      "language": "python",
      "name": "python3"
    },
    "language_info": {
      "codemirror_mode": {
        "name": "ipython",
        "version": 3
      },
      "file_extension": ".py",
      "mimetype": "text/x-python",
      "name": "python",
      "nbconvert_exporter": "python",
      "pygments_lexer": "ipython3",
      "version": "3.11.9"
    }
  },
  "nbformat": 4,
  "nbformat_minor": 4
}
