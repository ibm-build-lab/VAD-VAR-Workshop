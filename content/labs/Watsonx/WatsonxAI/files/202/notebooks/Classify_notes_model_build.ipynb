{
    "cells": [
        {
            "cell_type": "code",
            "execution_count": null,
            "metadata": {},
            "outputs": [],
            "source": [
                "# @hidden_cell\n",
                "# The project token is an authorization token that is used to access project resources like data sources, connections, and used by platform APIs.\n",
                "from project_lib import Project\n",
                "project = Project(project_id='INSERT_ID_HERE', project_access_token='INSERT_TOKEN_HERE')\n",
                "pc = project.project_context\n",
                "\n",
                "from ibm_watson_studio_lib import access_project_or_space\n",
                "wslib = access_project_or_space({'token':'INSERT_TOKEN_HERE'})"
            ]
        },
        {
            "cell_type": "markdown",
            "metadata": {
                "collapsed": true,
                "id": "9facac65-2f21-4c60-a082-7cf5a08d3589"
            },
            "source": [
                "# Classifying customer notes with Watson NLP"
            ]
        },
        {
            "cell_type": "markdown",
            "metadata": {
                "id": "905c51c1-7396-4111-85e0-cb1c231cc63e"
            },
            "source": [
                "This notebook was created using the [sample notebooks](https://dataplatform.cloud.ibm.com/exchange/public/entry/view/636001e59902133a4a23fd89f010e4cb?context=wx) in the Gallery \n",
                "\n",
                "We will train 2 models:\n",
                "1. SVM\n",
                "2. Ensemble"
            ]
        },
        {
            "cell_type": "markdown",
            "metadata": {
                "id": "4e59bd08-ccae-425c-9343-3b5a0f3b1a66"
            },
            "source": [
                "\n",
                "Begin by importing and initializing some helper libs that are used throughout the notebook."
            ]
        },
        {
            "cell_type": "code",
            "execution_count": null,
            "metadata": {
                "id": "16342249-8ba1-46c7-ab99-59ced5ee7933"
            },
            "outputs": [],
            "source": [
                "import pandas as pd\n",
                "# we want to show large text snippets to be able to explore the relevant text\n",
                "pd.options.display.max_colwidth = 400\n",
                "\n",
                "import seaborn as sn\n",
                "import matplotlib.pyplot as plt"
            ]
        },
        {
            "cell_type": "code",
            "execution_count": null,
            "metadata": {
                "id": "eedd06c4-2252-4025-84c8-2af806022391"
            },
            "outputs": [],
            "source": [
                "import watson_nlp\n",
                "\n",
                "from watson_core.data_model.streams.resolver import DataStreamResolver\n",
                "from watson_core.toolkit import fileio\n",
                "from watson_nlp.blocks.classification.svm import SVM"
            ]
        },
        {
            "cell_type": "markdown",
            "metadata": {
                "id": "7039cc98-9173-4b83-8e05-f1bcf717034e"
            },
            "source": [
                "<a id=\"loadData\"></a>\n",
                "## Load customer interaction notes"
            ]
        },
        {
            "cell_type": "markdown",
            "metadata": {},
            "source": [
                "**Important: regenerate data access code for the file in your project. Make sure to change the dataframe name after generation to** *complaint_df*"
            ]
        },
        {
            "cell_type": "code",
            "execution_count": null,
            "metadata": {},
            "outputs": [],
            "source": [
                "import pandas as pd\n",
                "\n",
                "\n",
                "# load data set into a dataframe\n",
                "buffer = wslib.load_data(\"classification_training.csv\")\n",
                "complaint_df = pd.read_csv(buffer)\n",
                "\n",
                "complaint_df.head()"
            ]
        },
        {
            "cell_type": "code",
            "execution_count": null,
            "metadata": {
                "id": "4834599b-0c45-420c-99b7-811b32530ada"
            },
            "outputs": [],
            "source": [
                "text_col = 'Consumer complaint narrative'\n",
                "\n",
                "complaint_df.head(2)"
            ]
        },
        {
            "cell_type": "markdown",
            "metadata": {
                "id": "76c8353d-287e-4d99-a026-e4058b33e97e"
            },
            "source": [
                "Let's look at all product groups that are available in the data set because these are the classes that the classifier should predict from a given complaint text."
            ]
        },
        {
            "cell_type": "code",
            "execution_count": null,
            "metadata": {
                "id": "8670f96c-769f-4594-ba2e-0befcc915701"
            },
            "outputs": [],
            "source": [
                "product_counts = complaint_df['Product'].value_counts()\n",
                "product_counts"
            ]
        },
        {
            "cell_type": "markdown",
            "metadata": {
                "id": "ccdad89c-88f2-4937-be6f-b4f53802b590"
            },
            "source": [
                "<a id=\"prepareData\"></a>\n",
                "## Prepare training and test data"
            ]
        },
        {
            "cell_type": "markdown",
            "metadata": {
                "id": "f9d79564-2d1e-4024-aa97-83b69791f51f"
            },
            "source": [
                "Many classification algorithms work best if the training samples are equally split across the classes. If the data is unbalanced, algorithms might decide to favor classes with many samples to achieve an overall good result. To avoid this, you will sample the data in the next step to have a similar amount of samples for each class.\n",
                "\n",
                "To avoid long runtimes in this sample notebook, you will use only a small number of samples. However, this can reduce the quality of the classification models. In a real-case scenario, you should increase the number of samples per product group to get better results."
            ]
        },
        {
            "cell_type": "code",
            "execution_count": null,
            "metadata": {
                "id": "85ec8349-e0e5-4990-b6af-0d68816b7664"
            },
            "outputs": [],
            "source": [
                "# number of complaints for the each product group\n",
                "sample_size = 300\n",
                "\n",
                "train_test_df = complaint_df.query(\"Product != 'Student loan' and Product != 'Payday loan, title loan, or personal loan'\")\n",
                "\n",
                "# sample the data to have the same number of complaints for each product group\n",
                "train_test_df = train_test_df.groupby('Product').sample(n=sample_size, random_state=5).reset_index(drop=True)"
            ]
        },
        {
            "cell_type": "markdown",
            "metadata": {
                "id": "ab11b3fa-e109-4401-b380-fc162dedf5a8"
            },
            "source": [
                "In the next step, you will split the data into training and test data (ratio:80/20)."
            ]
        },
        {
            "cell_type": "code",
            "execution_count": null,
            "metadata": {
                "id": "c41ac188-0a68-4d8e-b595-c40b9044bc9f"
            },
            "outputs": [],
            "source": [
                "# 80% training data\n",
                "train_orig_df = train_test_df.groupby('Product').sample(frac=0.8, random_state=6)\n",
                "print(\"Training data:\")\n",
                "print(\"Number of training samples: {}\".format(len(train_orig_df)))\n",
                "print(\"Samples by product group:\\n{}\".format(train_orig_df['Product'].value_counts()))\n",
                "\n",
                "# 20% test data\n",
                "test_orig_df = train_test_df.drop(train_orig_df.index)\n",
                "print(\"\\nTest data:\")\n",
                "print(\"Number of test samples: {}\".format(len(test_orig_df)))\n",
                "print(\"Samples by product group:\\n{}\".format(test_orig_df['Product'].value_counts()))\n",
                "\n",
                "# re-index after sampling\n",
                "train_orig_df = train_orig_df.reset_index(drop=True)\n",
                "test_orig_df = test_orig_df.reset_index(drop=True)"
            ]
        },
        {
            "cell_type": "markdown",
            "metadata": {
                "id": "07d862cc-3cc4-42c7-a19a-d55118083ba8"
            },
            "source": [
                "You have created two dataframes, one for the training and one for the test data. The data is still in its original format. Now you need to bring the data into a format that is usable by the Watson NLP classification algorithms. This can be either *JSON* or *CSV* format. \n",
                "\n",
                "In the sample, you will create the data in *JSON* format. The training and test data is written to files."
            ]
        },
        {
            "cell_type": "code",
            "execution_count": null,
            "metadata": {
                "id": "230ff2a2-4095-4cf3-ae29-6a8deaa36a29"
            },
            "outputs": [],
            "source": [
                "def prepare_data(df):\n",
                "    # only the text column and the target label *Product* are needed\n",
                "    df_out = df[[text_col, 'Product']].reset_index(drop=True)\n",
                "    # rename to the identifiers expected by Watson NLP\n",
                "    df_out = df_out.rename(columns={text_col: \"text\", 'Product': 'labels'})\n",
                "    # the label column should be an array (although we have only one label per complaint)\n",
                "    df_out['labels'] = df_out['labels'].map(lambda label: [label,])\n",
                "    return df_out\n",
                "    \n",
                "train_df = prepare_data(train_orig_df)\n",
                "train_file = './train_data.json'\n",
                "train_df.to_json(train_file, orient='records')\n",
                "    \n",
                "test_df = prepare_data(test_orig_df)\n",
                "test_file = './test_data.json'\n",
                "test_df.to_json(test_file, orient='records')\n",
                "\n",
                "train_df.head(2)"
            ]
        },
        {
            "cell_type": "markdown",
            "metadata": {
                "id": "17ffb4e4-bed1-403f-98d3-07ae4b2dedc3"
            },
            "source": [
                "<a id=\"svm\"></a>\n",
                "## Train a SVM classification model with Watson NLP"
            ]
        },
        {
            "cell_type": "markdown",
            "metadata": {
                "id": "078c5074-b5dc-4950-bb12-73d8a391761a"
            },
            "source": [
                "SVM is an establishd classification approach. Watson NLP includes an SVM algorithm that exploits the `SnapML` libraries for faster training. The algorithm utilizes USE embeddings that encode word-level semantics into a vector space.\n",
                "\n",
                "The SVM classifier block depends on the syntax block. So, start by loading the syntax model and the USE embeddings."
            ]
        },
        {
            "cell_type": "code",
            "execution_count": null,
            "metadata": {
                "id": "69907356-2cbd-47f0-8e57-aa634b18cd40"
            },
            "outputs": [],
            "source": [
                "# Syntax Model\n",
                "syntax_model = watson_nlp.load('syntax_izumo_en_stock')\n",
                "# USE Embedding Model\n",
                "use_model = watson_nlp.load('embedding_use_en_stock')"
            ]
        },
        {
            "cell_type": "markdown",
            "metadata": {
                "id": "c19dc436-83bf-4e91-977e-60b6b8ca86b2"
            },
            "source": [
                "Classification blocks expect the training data in data streams. You can create data streams using several utility methods, as shown below."
            ]
        },
        {
            "cell_type": "code",
            "execution_count": null,
            "metadata": {
                "id": "37b4fbf2-30f0-44c7-a534-75449c2fd336"
            },
            "outputs": [],
            "source": [
                "training_data_file = train_file\n",
                "\n",
                "# Create datastream from training data\n",
                "data_stream_resolver = DataStreamResolver(target_stream_type=list, expected_keys={'text': str, 'labels': list})\n",
                "training_data = data_stream_resolver.as_data_stream(training_data_file)\n",
                "\n",
                "# Create Syntax stream\n",
                "text_stream, labels_stream = training_data[0], training_data[1]\n",
                "syntax_stream = syntax_model.stream(text_stream)\n",
                "\n",
                "use_train_stream = use_model.stream(syntax_stream, doc_embed_style='raw_text')\n",
                "use_svm_train_stream = watson_nlp.data_model.DataStream.zip(use_train_stream, labels_stream)"
            ]
        },
        {
            "cell_type": "markdown",
            "metadata": {
                "id": "052b20f4-941b-4e9f-9a62-bc4abef37b77"
            },
            "source": [
                "Train the classifier. **Note:** This cell will run for several minutes."
            ]
        },
        {
            "cell_type": "code",
            "execution_count": null,
            "metadata": {
                "id": "dcd05e07-d4f5-4967-9862-e833a2aef001"
            },
            "outputs": [],
            "source": [
                "# Train the SVM model\n",
                "svm_model = SVM.train(use_svm_train_stream)"
            ]
        },
        {
            "cell_type": "markdown",
            "metadata": {
                "id": "a9d51076-59ac-4bb7-98ee-0d6e32cb09a0"
            },
            "source": [
                "Before you evalute the model, you will train another one and look at how to store and reload models from the project."
            ]
        },
        {
            "cell_type": "markdown",
            "metadata": {
                "id": "95570c15-5b12-4abd-873c-ca83c2a4e308"
            },
            "source": [
                "<a id=\"ensemble\"></a>\n",
                "## Train an ensemble classification model with Watson NLP"
            ]
        },
        {
            "cell_type": "markdown",
            "metadata": {
                "id": "23d23ac9-a879-4e56-9efb-f32501b628d7"
            },
            "source": [
                "The ensemble model may combine three classification models: \n",
                "\n",
                "- SVM with TF-IDF features\n",
                "- SVM with USE (Universal Sentence Encoder) features \n",
                "- CNN \n",
                "\n",
                "You will use SVM with TF-IDF and SVM with USE as algorithms for the Ensemble classifier.\n",
                "It computes the weighted mean of classification predictions using confidence scores. You will use the default weights which can be fine-tuned in subsequent steps.\n",
                "\n",
                "The ensemble workflow is very easy to use and the model performance can be a lot better than individual algorithms.\n",
                "\n",
                "It depends on the syntax model and the USE embeddings. They are passed with the file containing the training data."
            ]
        },
        {
            "cell_type": "markdown",
            "metadata": {
                "id": "0342ddb4-4c26-4818-b937-3d7ddf11b0fa"
            },
            "source": [
                "Train the ensemble classifier."
            ]
        },
        {
            "cell_type": "code",
            "execution_count": null,
            "metadata": {
                "id": "411dd851929641c3ae19855f7ea26826"
            },
            "outputs": [],
            "source": [
                "from watson_nlp.workflows.classification import GenericEnsemble\n",
                "from watson_nlp.workflows.classification.base_classifier import TFidfSvm\n",
                "from watson_nlp.workflows.classification.base_classifier import UseSvm\n",
                "\n",
                "ensemble_model = GenericEnsemble.train(training_data, syntax_model, \n",
                "                                       base_classifiers_params=[\n",
                "                                           TFidfSvm.TrainParams(syntax_model=syntax_model),\n",
                "                                           UseSvm.TrainParams(syntax_model=syntax_model, use_embedding_model=use_model, doc_embed_style='raw_text')])"
            ]
        },
        {
            "cell_type": "markdown",
            "metadata": {
                "id": "7296890f206c4f7682997a6ca217ce8b"
            },
            "source": [
                "<a id=\"storeLoad\"></a>\n",
                "## Store and load classification models (optional)"
            ]
        },
        {
            "cell_type": "markdown",
            "metadata": {
                "id": "00a803c1dfcb4be489d9c3e8b6af410e"
            },
            "source": [
                "You can save a model as a project asset. `model.as_bytes()` creates a ZIP archive, which is provided as a *BytesIO* object that is stored in the project.\n",
                "\n",
                "**Note:** These steps are **optional**. You can skip them, and continue at [Classify test data and compare model quality](#scoring)\n",
                "\n",
                "Save both models in your project."
            ]
        },
        {
            "cell_type": "code",
            "execution_count": null,
            "metadata": {
                "id": "6f2d4d1c23ea49e880498b0ed9010f24"
            },
            "outputs": [],
            "source": [
                "wslib.save_data('classify_notes_svm', data=svm_model.as_bytes(), overwrite=True)"
            ]
        },
        {
            "cell_type": "code",
            "execution_count": null,
            "metadata": {
                "id": "2676c868db474636a01cf162db66a973"
            },
            "outputs": [],
            "source": [
                "wslib.save_data('classify_notes_ensemble', data=ensemble_model.as_bytes(), overwrite=True)"
            ]
        },
        {
            "cell_type": "markdown",
            "metadata": {
                "id": "fb8f5eaec4c34761807fe4c447c5e1df"
            },
            "source": [
                "The ZIP archive created by the `save_data` function is compatible to the `watson_nlp.load()` function that is also used to load the predefined Watson NLP models."
            ]
        },
        {
            "cell_type": "markdown",
            "metadata": {
                "id": "db9b3096-1942-45a0-bdd7-0d1bd93cdd70"
            },
            "source": [
                "<a id=\"scoring\"></a>\n",
                "## Classify test data and compare model quality"
            ]
        },
        {
            "cell_type": "markdown",
            "metadata": {
                "id": "16a8f9b8-8f3c-43f4-abce-2f19b080739e"
            },
            "source": [
                "Now you are able to run the trained models on new data. You will run the models on the test data so that the results can also be used for model evaluation. For illustration purposes, the data is used in the original format that you started out with because the format of the new complaints that you receive might also be in that format.\n",
                "\n",
                "Notice that the SVM with USE embeddings model requires you to run the syntax model on the input texts first.\n",
                "\n",
                "Create a helper method to run both models on a single complaint and return the predicted product groups of both models."
            ]
        },
        {
            "cell_type": "code",
            "execution_count": null,
            "metadata": {},
            "outputs": [],
            "source": [
                "# Load the models we previously saved in the project for testing\n",
                "\n",
                "svm_model = watson_nlp.load(wslib.load_data('classify_notes_svm'))\n",
                "ensemble_model = watson_nlp.load(wslib.load_data('classify_notes_ensemble'))"
            ]
        },
        {
            "cell_type": "code",
            "execution_count": null,
            "metadata": {
                "id": "146f73b2-aac8-4ce4-894e-45e0adaf1596"
            },
            "outputs": [],
            "source": [
                "def predict_product(text):\n",
                "    # run syntax model first\n",
                "    syntax_result = syntax_model.run(text)\n",
                "    # run SVM model on top of syntax result\n",
                "    svm_preds = svm_model.run(use_model.run(syntax_result, doc_embed_style='raw_text'))\n",
                "    \n",
                "    predicted_svm = svm_preds.to_dict()[\"classes\"][0][\"class_name\"]\n",
                "    \n",
                "    ensemble_preds = ensemble_model.run(text)\n",
                "    predicted_ensemble = ensemble_preds.to_dict()[\"classes\"][0][\"class_name\"]\n",
                "    return (predicted_svm, predicted_ensemble)"
            ]
        },
        {
            "cell_type": "markdown",
            "metadata": {
                "id": "c0150739-b655-4b94-bb14-12b58ea29905"
            },
            "source": [
                "Run the models on the complete test data."
            ]
        },
        {
            "cell_type": "code",
            "execution_count": null,
            "metadata": {
                "id": "426c35ff-c049-4c39-a9d0-084f053db050"
            },
            "outputs": [],
            "source": [
                "predictions = test_orig_df[text_col].apply(lambda text: predict_product(text))\n",
                "predictions_df = pd.DataFrame.from_records(predictions, columns=('Predicted SVM', 'Predicted Ensemble'))\n",
                "   \n",
                "result_df = test_orig_df[[text_col, \"Product\"]].merge(predictions_df, how='left', left_index=True, right_index=True)\n",
                "result_df.head()"
            ]
        },
        {
            "cell_type": "markdown",
            "metadata": {
                "id": "d923a5c1-2c7c-460d-b7bc-73880b999a3f"
            },
            "source": [
                "### Out-of-the-box model evaluation using Watson NLP"
            ]
        },
        {
            "cell_type": "markdown",
            "metadata": {
                "id": "49954f72-7d17-4a33-a090-64d119d5262e"
            },
            "source": [
                "Watson NLP offers a method to calculate different quality metrics for a given model. Use the test data to evaluate the quality of your models."
            ]
        },
        {
            "cell_type": "code",
            "execution_count": null,
            "metadata": {
                "id": "5a15ff2a-1f46-49e7-bd84-b9a32efd17bd"
            },
            "outputs": [],
            "source": [
                "# run the models on the test data - this time in batch mode\n",
                "preprocess_func = lambda raw_doc: use_model.run_batch(syntax_model.run_batch(raw_doc))\n",
                "svm_model.evaluate_quality(test_file, preprocess_func=preprocess_func)"
            ]
        },
        {
            "cell_type": "markdown",
            "metadata": {
                "id": "82255bf2-47ea-4c84-aa13-de545d2bb1e4"
            },
            "source": [
                "You can see that the precision, recall and f1-measure for some classes is much lower than for others. The reason might be that it is difficult to differentiate between some classes. \n",
                "\n",
                "To find out if this is true, create a custom confusion matrix to see if there are classes that seem to be very close and might have been classified inappropriately."
            ]
        },
        {
            "cell_type": "markdown",
            "metadata": {
                "id": "c68ca5eb-eb69-40bd-83c8-f984c740c522"
            },
            "source": [
                "### Creating and plotting a confusion matrix"
            ]
        },
        {
            "cell_type": "markdown",
            "metadata": {
                "id": "030b1678-3fac-49a7-8c97-a42c3e496263"
            },
            "source": [
                "Use the pandas *crosstab* to create a confusion matrix for both the SVM and the ensemble model and plot them as *Seaborn* heatmaps."
            ]
        },
        {
            "cell_type": "code",
            "execution_count": null,
            "metadata": {
                "id": "b3103777-c4b8-4a32-baf9-7c8a306f5b19"
            },
            "outputs": [],
            "source": [
                "SVM_confusion_df = pd.crosstab(result_df['Product'], result_df['Predicted SVM'], rownames=['Actual'], normalize='index')\n",
                "ensemble_confusion_df = pd.crosstab(result_df['Product'], result_df['Predicted Ensemble'], rownames=['Actual'], normalize='index')\n",
                "\n",
                "figure, (ax1, ax2) = plt.subplots(ncols=2, figsize=(15,7))\n",
                "\n",
                "sn.heatmap(SVM_confusion_df, annot=True, cmap=\"YlGnBu\", ax=ax1, cbar=False)\n",
                "sn.heatmap(ensemble_confusion_df, annot=True, cmap=\"YlGnBu\", ax=ax2, cbar=False)\n",
                "ax1.title.set_text(\"SVM\")\n",
                "ax2.title.set_text(\"Ensemble\")\n",
                "ax2.set_yticklabels([])\n",
                "\n",
                "plt.show()"
            ]
        },
        {
            "cell_type": "markdown",
            "metadata": {
                "id": "081bae89-6295-4813-aaa1-22f703ccf61f"
            },
            "source": [
                "#### Findings\n",
                "\n",
                "In the confusion matrix for the SVM model you can now see that complaints for `Credit reporting, credit repair services, or other personal consumer reports` are often misclassified as `Debt collection` - and vice versa. Other common misclassifications can be gathered from the table.\n",
                "\n",
                "Overall, the ensemble model performs better than the SVM model. \n",
                "\n",
                "In subsequent steps, consider increasing the size of the training data or adjusting the weights of the ensemble model to gain better results."
            ]
        },
        {
            "cell_type": "markdown",
            "metadata": {
                "id": "5eb6fb72-bdfc-4065-9993-123c904556a8"
            },
            "source": [
                "<a id=\"summary\"></a>\n",
                "## Summary"
            ]
        },
        {
            "cell_type": "markdown",
            "metadata": {
                "id": "06180a3b-c3fd-4df8-8894-77ce43e8865f"
            },
            "source": [
                "This notebook shows you how to use the Watson NLP library and how quickly and easily you can train and run different text classifiers using Watson NLP."
            ]
        },
        {
            "cell_type": "markdown",
            "metadata": {
                "id": "bbbfe417-ba3a-4b39-b4e0-d510af1599e9"
            },
            "source": [
                "### Authors\n",
                "*Simone Zerfass IBM, Germany and Alexander Lang IBM, Germany*\n",
                "*Updated for the workshop by Elena lowery\n"
            ]
        },
        {
            "cell_type": "markdown",
            "metadata": {
                "id": "a93d3d2e-779b-45bb-9c98-fa0ae595566c"
            },
            "source": [
                "# <hr>\n",
                "Copyright © 2021 IBM. This notebook and its source code are released under the terms of the MIT License."
            ]
        }
    ],
    "metadata": {
        "kernelspec": {
            "display_name": "Python 3.10",
            "language": "python",
            "name": "python3"
        },
        "language_info": {
            "codemirror_mode": {
                "name": "ipython",
                "version": 3
            },
            "file_extension": ".py",
            "mimetype": "text/x-python",
            "name": "python",
            "nbconvert_exporter": "python",
            "pygments_lexer": "ipython3",
            "version": "3.10.10"
        }
    },
    "nbformat": 4,
    "nbformat_minor": 1
}
