{
    "cells": [
        {
            "cell_type": "code",
            "execution_count": 4,
            "metadata": {},
            "outputs": [],
            "source": [
                "# @hidden_cell\n",
                "# The project token is an authorization token that is used to access project resources like data sources, connections, and used by platform APIs.\n",
                "from project_lib import Project\n",
                "project = Project(project_id='INSERT_ID_HERE', project_access_token='INSERT_TOKEN_HERE')\n",
                "pc = project.project_context\n",
                "\n",
                "from ibm_watson_studio_lib import access_project_or_space\n",
                "wslib = access_project_or_space({'token':'INSERT_TOKEN_HERE'})"
            ]
        },
        {
            "cell_type": "markdown",
            "metadata": {},
            "source": [
                "# Classifying customer notes with Watson NLP"
            ]
        },
        {
            "cell_type": "markdown",
            "metadata": {},
            "source": [
                "This notebook was created using the [sample notebooks](https://dataplatform.cloud.ibm.com/exchange/public/entry/view/636001e59902133a4a23fd89f010e4cb?context=wx) in the Gallery. In this example we score customer complaints using the models we trained in the *Classify_notes_model_build* notebook. "
            ]
        },
        {
            "cell_type": "code",
            "execution_count": 5,
            "metadata": {},
            "outputs": [],
            "source": [
                "import watson_nlp\n",
                "\n",
                "from watson_core.data_model.streams.resolver import DataStreamResolver\n",
                "from watson_core.toolkit import fileio\n",
                "from watson_nlp.blocks.classification.svm import SVM"
            ]
        },
        {
            "cell_type": "markdown",
            "metadata": {},
            "source": [
                "### 1. Load customer interaction notes for scoring"
            ]
        },
        {
            "cell_type": "markdown",
            "metadata": {},
            "source": [
                "**Important: regenerate data access code for the file in your project. Make sure to change the dataframe name after generation to complaint_df**\n",
                "The csv file name that we will use for scoring is *notes_scoring.csv*"
            ]
        },
        {
            "cell_type": "code",
            "execution_count": null,
            "metadata": {},
            "outputs": [],
            "source": [
                "import pandas as pd\n",
                "\n",
                "# load data set into a dataframe\n",
                "buffer = wslib.load_data(\"notes_scoring.csv\")\n",
                "\n",
                "complaint_df = pd.read_csv(buffer)\n",
                "complaint_df.head()"
            ]
        },
        {
            "cell_type": "code",
            "execution_count": 9,
            "metadata": {},
            "outputs": [],
            "source": [
                "# Identifyer for the column that contains the customer notes\n",
                "text_col = 'Consumer complaint narrative'"
            ]
        },
        {
            "cell_type": "markdown",
            "metadata": {},
            "source": [
                "### 2. Load models"
            ]
        },
        {
            "cell_type": "code",
            "execution_count": 10,
            "metadata": {},
            "outputs": [],
            "source": [
                "# Load the out-of-the box Watson NLP models that we will use in combination with our trained models\n",
                "\n",
                "# Syntax Model\n",
                "syntax_model = watson_nlp.load('syntax_izumo_en_stock')\n",
                "# USE Embedding Model\n",
                "use_model = watson_nlp.load('embedding_use_en_stock')"
            ]
        },
        {
            "cell_type": "code",
            "execution_count": 11,
            "metadata": {},
            "outputs": [],
            "source": [
                "# Load the models we previously saved in the project for scoring\n",
                "svm_model = watson_nlp.load(wslib.load_data('classify_notes_svm'))\n",
                "ensemble_model = watson_nlp.load(wslib.load_data('classify_notes_ensemble'))"
            ]
        },
        {
            "cell_type": "markdown",
            "metadata": {},
            "source": [
                "###  3. Invoke Scoring"
            ]
        },
        {
            "cell_type": "code",
            "execution_count": 12,
            "metadata": {},
            "outputs": [],
            "source": [
                "# Function that will be invoked for scoring \n",
                "def predict_product(text):\n",
                "    # run syntax model first\n",
                "    syntax_result = syntax_model.run(text)\n",
                "    # run SVM model on top of syntax result\n",
                "    svm_preds = svm_model.run(use_model.run(syntax_result, doc_embed_style='raw_text'))\n",
                "    \n",
                "    predicted_svm = svm_preds.to_dict()[\"classes\"][0][\"class_name\"]\n",
                "    \n",
                "    ensemble_preds = ensemble_model.run(text)\n",
                "    predicted_ensemble = ensemble_preds.to_dict()[\"classes\"][0][\"class_name\"]\n",
                "    return (predicted_svm, predicted_ensemble)"
            ]
        },
        {
            "cell_type": "code",
            "execution_count": null,
            "metadata": {},
            "outputs": [],
            "source": [
                "# Invoke scoring\n",
                "\n",
                "predictions = complaint_df[text_col].apply(lambda text: predict_product(text))\n",
                "predictions_df = pd.DataFrame.from_records(predictions, columns=('Predicted SVM', 'Predicted Ensemble'))\n",
                "\n",
                "# Display the results (for testing only)\n",
                "predictions_df.head()"
            ]
        },
        {
            "cell_type": "code",
            "execution_count": null,
            "metadata": {},
            "outputs": [],
            "source": [
                "# Merge scoring results with the original dataset\n",
                "result_df = complaint_df.merge(predictions_df, how='left', left_index=True, right_index=True)\n",
                "result_df.head()"
            ]
        },
        {
            "cell_type": "markdown",
            "metadata": {},
            "source": [
                "### 4. Save Scoring Results in the project"
            ]
        },
        {
            "cell_type": "code",
            "execution_count": null,
            "metadata": {},
            "outputs": [],
            "source": [
                "# Write scoring results to the project\n",
                "\n",
                "# let's assume you have the pandas DataFrame pandas_df which contains the data\n",
                "# you want to save as a csv file\n",
                "wslib.save_data(\"notes_scoring_results.csv\", result_df.to_csv(index=False).encode())"
            ]
        }
    ],
    "metadata": {
        "kernelspec": {
            "display_name": "Python 3.10",
            "language": "python",
            "name": "python3"
        },
        "language_info": {
            "codemirror_mode": {
                "name": "ipython",
                "version": 3
            },
            "file_extension": ".py",
            "mimetype": "text/x-python",
            "name": "python",
            "nbconvert_exporter": "python",
            "pygments_lexer": "ipython3",
            "version": "3.10.10"
        }
    },
    "nbformat": 4,
    "nbformat_minor": 1
}
